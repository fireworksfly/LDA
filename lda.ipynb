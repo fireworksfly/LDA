{
 "cells": [
  {
   "cell_type": "code",
   "execution_count": null,
   "id": "c9474f4d",
   "metadata": {},
   "outputs": [],
   "source": [
    "from gensim import corpora, models\n",
    "import pandas as pd\n",
    "import numpy as np"
   ]
  },
  {
   "cell_type": "code",
   "execution_count": null,
   "id": "4c938ae4",
   "metadata": {},
   "outputs": [],
   "source": [
    "df = pd.read_excel('./outputs/分词文本.xlsx')\n",
    "df "
   ]
  },
  {
   "cell_type": "code",
   "execution_count": null,
   "id": "6ad29522",
   "metadata": {},
   "outputs": [],
   "source": [
    "# 将文本的分词结果转换为list,便于genism处理\n",
    "df = df.dropna(subset=['分词'])\n",
    "input_list = []\n",
    "for index, row in df.iterrows():\n",
    "    word = str(row['分词'])\n",
    "    temp_list = word.split(' ')\n",
    "    input_list.append(temp_list)"
   ]
  },
  {
   "cell_type": "code",
   "execution_count": null,
   "id": "6858ec13",
   "metadata": {},
   "outputs": [],
   "source": [
    "dictionary = corpora.Dictionary(input_list)\n",
    "dictionary.filter_extremes(no_below=15, no_above=0.5, keep_n=10000)\n",
    "corpus = [dictionary.doc2bow(text) for text in input_list]   # 仍为list of list\n",
    "corpus    # 稀疏矩阵，第一个元素为词的序号，第二个为词频"
   ]
  },
  {
   "cell_type": "code",
   "execution_count": null,
   "id": "3fafb042",
   "metadata": {},
   "outputs": [],
   "source": [
    "# 建立TF-IDF模型， 如果需要用TF-IDF把下面的语料换掉\n",
    "# tfidf_model = models.TfidfModel(corpus)  \n",
    "# corpus_tfidf = tfidf_model[corpus]       \n",
    "# corpus_tfidf"
   ]
  },
  {
   "cell_type": "code",
   "execution_count": null,
   "id": "f129a4b0",
   "metadata": {},
   "outputs": [],
   "source": [
    "from gensim.models import LdaModel\n",
    "#列出所消耗时间备查\n",
    "%time ldamodel = LdaModel(corpus, id2word = dictionary, num_topics = 35, passes = 50)"
   ]
  },
  {
   "cell_type": "code",
   "execution_count": null,
   "id": "c0d39b4b",
   "metadata": {},
   "outputs": [],
   "source": [
    "topic_nums = ldamodel.num_topics\n",
    "topics = ldamodel.print_topics(num_topics=topic_nums, num_words=10)\n",
    "# 打开文件，如果文件不存在则创建文件\n",
    "with open('./outputs/主题.txt', 'w') as f:\n",
    "    for topic in topics:\n",
    "        f.write(topic[1]+'\\n')\n",
    "        print(topic[1])      "
   ]
  },
  {
   "cell_type": "code",
   "execution_count": null,
   "id": "f4c80cbe",
   "metadata": {},
   "outputs": [],
   "source": [
    "import pyLDAvis\n",
    "import pyLDAvis.gensim_models\n",
    "pyLDAvis.enable_notebook()\n",
    "vis = pyLDAvis.gensim_models.prepare(ldamodel, corpus, dictionary, sort_topics = False)\n",
    "\n",
    "pyLDAvis.display(vis)\n",
    "pyLDAvis.save_html(vis, 'lda可视化.html')"
   ]
  }
 ],
 "metadata": {
  "kernelspec": {
   "display_name": "Python 3 (ipykernel)",
   "language": "python",
   "name": "python3"
  },
  "language_info": {
   "codemirror_mode": {
    "name": "ipython",
    "version": 3
   },
   "file_extension": ".py",
   "mimetype": "text/x-python",
   "name": "python",
   "nbconvert_exporter": "python",
   "pygments_lexer": "ipython3",
   "version": "3.8.8"
  }
 },
 "nbformat": 4,
 "nbformat_minor": 5
}